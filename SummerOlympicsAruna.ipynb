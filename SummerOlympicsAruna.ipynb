{
  "nbformat": 4,
  "nbformat_minor": 0,
  "metadata": {
    "colab": {
      "name": "Untitled6.ipynb",
      "provenance": [],
      "collapsed_sections": []
    },
    "kernelspec": {
      "name": "python3",
      "display_name": "Python 3"
    },
    "language_info": {
      "name": "python"
    }
  },
  "cells": [
    {
      "cell_type": "markdown",
      "metadata": {
        "id": "rSJbv2HMyt8S"
      },
      "source": [
        "## **Summer Olympics Data Analysis Assignment**"
      ]
    },
    {
      "cell_type": "code",
      "metadata": {
        "id": "zRA32P_o0ppJ"
      },
      "source": [
        "import pandas as pd\n",
        "import numpy as np\n",
        "import math\n",
        "import matplotlib.pyplot as plt"
      ],
      "execution_count": 2,
      "outputs": []
    },
    {
      "cell_type": "code",
      "metadata": {
        "colab": {
          "base_uri": "https://localhost:8080/"
        },
        "id": "a4OIj5iN0t13",
        "outputId": "6d4e253b-89a0-4e4a-aa8b-5cd8dab000bb"
      },
      "source": [
        "!ls"
      ],
      "execution_count": 3,
      "outputs": [
        {
          "output_type": "stream",
          "name": "stdout",
          "text": [
            "sample_data\n"
          ]
        }
      ]
    },
    {
      "cell_type": "code",
      "metadata": {
        "id": "86EaoYOX0-oN"
      },
      "source": [
        "df = pd.read_csv('summer.csv')"
      ],
      "execution_count": 5,
      "outputs": []
    },
    {
      "cell_type": "markdown",
      "metadata": {
        "id": "brKpHhjoFSOL"
      },
      "source": [
        "**1.In how many cities summer olympics have been held so far?**"
      ]
    },
    {
      "cell_type": "code",
      "metadata": {
        "colab": {
          "base_uri": "https://localhost:8080/"
        },
        "id": "AHKBOl9E0-qn",
        "outputId": "14181ec2-12e4-4999-807f-b333a8819c7e"
      },
      "source": [
        "n =len(df['City'].unique())\n",
        "print(f'Olypmics has been held in {n} cities so far')"
      ],
      "execution_count": 6,
      "outputs": [
        {
          "output_type": "stream",
          "name": "stdout",
          "text": [
            "Olypmics has been held in 22 cities so far\n"
          ]
        }
      ]
    },
    {
      "cell_type": "markdown",
      "metadata": {
        "id": "ePtJV1ZVozr8"
      },
      "source": [
        "**2. Which sport is having most number of Gold Medals so far? (Top 5)**"
      ]
    },
    {
      "cell_type": "code",
      "metadata": {
        "id": "_cFcV3KZBSSL",
        "colab": {
          "base_uri": "https://localhost:8080/",
          "height": 434
        },
        "outputId": "f75f87f6-5405-4926-c3be-18f8a72ebf70"
      },
      "source": [
        "data = []\n",
        "\n",
        "for s in df['Sport'].unique():\n",
        "    data.append([s , len(df[df['Sport']  == s])])\n",
        "\n",
        "data = pd.DataFrame(ot, columns = ['Sport', 'Gold Medal Count'])\n",
        "data = data.sort_values(by = 'Gold Medal Count', ascending=False).head()\n",
        "print(data['Sport'][0]+ \" sport is has most number of gold medals!!!\\n\")\n",
        "data.plot(x ='Sport',y='Gold Medal Count',kind = 'bar', figsize = (5,5))"
      ],
      "execution_count": 27,
      "outputs": [
        {
          "output_type": "stream",
          "name": "stdout",
          "text": [
            "Aquatics sport is has most number of gold medals!!!\n",
            "\n"
          ]
        },
        {
          "output_type": "execute_result",
          "data": {
            "text/plain": [
              "<matplotlib.axes._subplots.AxesSubplot at 0x7fbe03c89510>"
            ]
          },
          "metadata": {},
          "execution_count": 27
        },
        {
          "output_type": "display_data",
          "data": {
            "image/png": "[encoded data removed]",
            "text/plain": [
              "<Figure size 360x360 with 1 Axes>"
            ]
          },
          "metadata": {
            "needs_background": "light"
          }
        }
      ]
    },
    {
      "cell_type": "markdown",
      "metadata": {
        "id": "XEZncDOyFrUt"
      },
      "source": [
        "**3. Which sport is having most number of medals so far? (Top 5)**"
      ]
    },
    {
      "cell_type": "code",
      "metadata": {
        "colab": {
          "base_uri": "https://localhost:8080/",
          "height": 434
        },
        "id": "SqsSLaJg0-sw",
        "outputId": "38e7bbe5-819c-4752-c92c-d4c0230fc8fb"
      },
      "source": [
        "data = []\n",
        "\n",
        "for s in df['Sport'].unique():\n",
        "    data.append([s , len(df[df['Sport']  == s])])\n",
        "\n",
        "data = pd.DataFrame(ot, columns = ['Sport', 'Medals Count'])\n",
        "data = data.sort_values(by = 'Medals Count', ascending=False).head()\n",
        "print(data['Sport'][0]+ \" sport is has most number of Medals!!!\\n\")\n",
        "data.plot(x ='Sport',y='Medals Count',kind = 'bar', figsize = (5,5))\n",
        "\n"
      ],
      "execution_count": 29,
      "outputs": [
        {
          "output_type": "stream",
          "name": "stdout",
          "text": [
            "Aquatics sport is has most number of Medals!!!\n",
            "\n"
          ]
        },
        {
          "output_type": "execute_result",
          "data": {
            "text/plain": [
              "<matplotlib.axes._subplots.AxesSubplot at 0x7fbe05aaaa10>"
            ]
          },
          "metadata": {},
          "execution_count": 29
        },
        {
          "output_type": "display_data",
          "data": {
            "image/png": "[encoded data removed]",
            "text/plain": [
              "<Figure size 360x360 with 1 Axes>"
            ]
          },
          "metadata": {
            "needs_background": "light"
          }
        }
      ]
    },
    {
      "cell_type": "markdown",
      "metadata": {
        "id": "DXpN39M-F5HK"
      },
      "source": [
        "**4. Which player has won most number of medals? (Top 5)**"
      ]
    },
    {
      "cell_type": "code",
      "metadata": {
        "colab": {
          "base_uri": "https://localhost:8080/",
          "height": 459
        },
        "id": "CqH_OI9L0-vC",
        "outputId": "1cbd679d-616c-4749-a935-ec80435407d6"
      },
      "source": [
        "data = []\n",
        "for a in df['Athlete'].unique():\n",
        "    data.append([a , len(df[df['Athlete']  == a])])\n",
        "\n",
        "data = pd.DataFrame(data,columns = ['Athlete','freq'])\n",
        "data = data.sort_values(by='freq', ascending=False).head()\n",
        "data.plot(x = 'Athlete', y = 'freq', kind = 'bar', figsize = (5,5))\n"
      ],
      "execution_count": 31,
      "outputs": [
        {
          "output_type": "execute_result",
          "data": {
            "text/plain": [
              "<matplotlib.axes._subplots.AxesSubplot at 0x7fbe039abf10>"
            ]
          },
          "metadata": {},
          "execution_count": 31
        },
        {
          "output_type": "display_data",
          "data": {
            "image/png": "[encoded data removed]",
            "text/plain": [
              "<Figure size 360x360 with 1 Axes>"
            ]
          },
          "metadata": {
            "needs_background": "light"
          }
        }
      ]
    },
    {
      "cell_type": "markdown",
      "metadata": {
        "id": "TXFZI1MZqoyp"
      },
      "source": [
        "\n",
        "**5. Which player has won most number Gold Medals of medals? (Top 5)** "
      ]
    },
    {
      "cell_type": "code",
      "metadata": {
        "colab": {
          "base_uri": "https://localhost:8080/",
          "height": 427
        },
        "id": "WZd4tcclovat",
        "outputId": "7ab937e9-4d2d-485d-b456-7a6e7c12cab8"
      },
      "source": [
        "value = df[df['Medal'] == \"Gold\"]\n",
        "lst = []\n",
        "for Athlete in value['Athlete'].unique():\n",
        "    lst.append([Athlete, len(value[value['Athlete'] == Athlete])])\n",
        "    #lst.append(len(value[value['Athlete'] == Athlete]))\n",
        "pd.DataFrame(lst,columns = ['Athlete','Gold Count']).sort_values(by='Gold Count', ascending=False).head().plot(x = 'Athlete', y = 'Gold Count', kind = 'bar', figsize = (5,5))"
      ],
      "execution_count": 15,
      "outputs": [
        {
          "output_type": "execute_result",
          "data": {
            "text/plain": [
              "<matplotlib.axes._subplots.AxesSubplot at 0x7fbe0a1286d0>"
            ]
          },
          "metadata": {},
          "execution_count": 15
        },
        {
          "output_type": "display_data",
          "data": {
            "image/png": "[encoded data removed]",
            "text/plain": [
              "<Figure size 360x360 with 1 Axes>"
            ]
          },
          "metadata": {
            "needs_background": "light"
          }
        }
      ]
    },
    {
      "cell_type": "markdown",
      "metadata": {
        "id": "vrGZjt2krCun"
      },
      "source": [
        "**6. In which year India won first Gold Medal in Summer Olympics?**"
      ]
    },
    {
      "cell_type": "code",
      "metadata": {
        "colab": {
          "base_uri": "https://localhost:8080/"
        },
        "id": "sWEzAgR4ovjj",
        "outputId": "42fa7c5a-465c-43d5-83f5-e0994a8454d4"
      },
      "source": [
        "df1 = df[df['Country'] == 'IND']\n",
        "df1 = df1[df1[\"Medal\"] == \"Gold\"]\n",
        "print(\"India has won the first gold medal in the year \" + str(df1['Year'].min()) + \" of Summer Olympics\")"
      ],
      "execution_count": 14,
      "outputs": [
        {
          "output_type": "stream",
          "name": "stdout",
          "text": [
            "India has won the first gold medal in the year 1928 of Summer Olympics\n"
          ]
        }
      ]
    },
    {
      "cell_type": "markdown",
      "metadata": {
        "id": "YQUVsjyJr-DG"
      },
      "source": [
        "**7. Which event is most popular in terms on number of players? (Top 5)**"
      ]
    },
    {
      "cell_type": "code",
      "metadata": {
        "colab": {
          "base_uri": "https://localhost:8080/",
          "height": 431
        },
        "id": "fH7IT6nEovm9",
        "outputId": "9ff0ec88-7fa8-4476-c1db-30ebd4a09b90"
      },
      "source": [
        "count = []\n",
        "items = df['Event'].unique()\n",
        "for item in items:\n",
        "  count.append([item,len(df[df['Event'] == item])])\n",
        "pd.DataFrame(count,columns =  ['Event', 'No of Players'] ).sort_values(by='No of Players', ascending=False).head().plot(x = 'Event', y = 'No of Players', kind = 'bar', figsize = (5,5))\n"
      ],
      "execution_count": 16,
      "outputs": [
        {
          "output_type": "execute_result",
          "data": {
            "text/plain": [
              "<matplotlib.axes._subplots.AxesSubplot at 0x7fbe0a9f1610>"
            ]
          },
          "metadata": {},
          "execution_count": 16
        },
        {
          "output_type": "display_data",
          "data": {
            "image/png": "[encoded data removed]",
            "text/plain": [
              "<Figure size 360x360 with 1 Axes>"
            ]
          },
          "metadata": {
            "needs_background": "light"
          }
        }
      ]
    },
    {
      "cell_type": "markdown",
      "metadata": {
        "id": "kI5agpBvudHZ"
      },
      "source": [
        "**8.Which sport is having most female Gold Medalists? (Top 5)**"
      ]
    },
    {
      "cell_type": "code",
      "metadata": {
        "colab": {
          "base_uri": "https://localhost:8080/",
          "height": 399
        },
        "id": "UWylbAyUuOAI",
        "outputId": "6132f3de-7b36-4c16-f3ab-fbf3fd58193b"
      },
      "source": [
        "data = df[df['Gender'] == 'Women']\n",
        "data = data[data['Medal'] == \"Gold\"]\n",
        "lst = []\n",
        "for Sport in data['Sport'].unique():\n",
        "    lst.append([Sport, len(data[data['Sport'] == Sport])])\n",
        "pd.DataFrame(lst, columns = ['Sport', 'Count']).sort_values(by = 'Count', ascending=False).head().plot(x ='Sport',y='Count',kind = 'bar', figsize = (10,5))"
      ],
      "execution_count": 17,
      "outputs": [
        {
          "output_type": "execute_result",
          "data": {
            "text/plain": [
              "<matplotlib.axes._subplots.AxesSubplot at 0x7fbe0a53fd90>"
            ]
          },
          "metadata": {},
          "execution_count": 17
        },
        {
          "output_type": "display_data",
          "data": {
            "image/png": "[encoded data removed]",
            "text/plain": [
              "<Figure size 720x360 with 1 Axes>"
            ]
          },
          "metadata": {
            "needs_background": "light"
          }
        }
      ]
    },
    {
      "cell_type": "code",
      "metadata": {
        "id": "KnxWzsPTvGuA"
      },
      "source": [
        ""
      ],
      "execution_count": null,
      "outputs": []
    }
  ]
}